{
  "nbformat": 4,
  "nbformat_minor": 0,
  "metadata": {
    "colab": {
      "name": "Aula4_Exercícios.ipynb",
      "provenance": [],
      "authorship_tag": "ABX9TyOgB1cVBb6pLmNhAFt66BWI",
      "include_colab_link": true
    },
    "kernelspec": {
      "name": "python3",
      "display_name": "Python 3"
    }
  },
  "cells": [
    {
      "cell_type": "markdown",
      "metadata": {
        "id": "view-in-github",
        "colab_type": "text"
      },
      "source": [
        "<a href=\"https://colab.research.google.com/github/eloijunior-py/pratice_pythonUERJ/blob/master/Aula4_Exerc%C3%ADcios.ipynb\" target=\"_parent\"><img src=\"https://colab.research.google.com/assets/colab-badge.svg\" alt=\"Open In Colab\"/></a>"
      ]
    },
    {
      "cell_type": "markdown",
      "metadata": {
        "id": "UTZpNKnB3PR7"
      },
      "source": [
        "Digite este exemplo em um script e teste-o"
      ]
    },
    {
      "cell_type": "code",
      "metadata": {
        "id": "GxEr_KPC3r0p",
        "outputId": "2117406f-cdb6-465e-8b91-57403c42a537",
        "colab": {
          "base_uri": "https://localhost:8080/"
        }
      },
      "source": [
        "\n",
        "def do_twice (f): \n",
        "    f () \n",
        "    f ()\n",
        "\n",
        "\n",
        "\n",
        "def print_spam (): \n",
        "    print('spam') \n",
        "\n",
        "do_twice (print_spam)"
      ],
      "execution_count": null,
      "outputs": [
        {
          "output_type": "stream",
          "text": [
            "spam\n",
            "spam\n"
          ],
          "name": "stdout"
        }
      ]
    },
    {
      "cell_type": "markdown",
      "metadata": {
        "id": "cxa3KJee4ATB"
      },
      "source": [
        "\n",
        "\n",
        "Modifique do_twice para que sejam necessários dois argumentos, um objeto de função e um valor, e chame a função duas vezes, passando o valor como um argumento.\n",
        "\n"
      ]
    },
    {
      "cell_type": "code",
      "metadata": {
        "id": "ZnXLB54Z4Dmp",
        "outputId": "ca89d457-3f8e-41f4-e580-0de89c2cdc63",
        "colab": {
          "base_uri": "https://localhost:8080/"
        }
      },
      "source": [
        "def do_twice(f, teste):\n",
        "    f(teste)\n",
        "    f(teste)\n",
        "\n",
        "def print_spam(teste):\n",
        "    print(teste)\n",
        "\n",
        "mensagem = \"Olá\"\n",
        "\n",
        "do_twice(print_spam, mensagem)"
      ],
      "execution_count": null,
      "outputs": [
        {
          "output_type": "stream",
          "text": [
            "Olá\n",
            "Olá\n"
          ],
          "name": "stdout"
        }
      ]
    },
    {
      "cell_type": "markdown",
      "metadata": {
        "id": "NHDR3lre6cvZ"
      },
      "source": [
        "Use a versão modificada de do_twice para chamar print_twice duas vezes, passando 'spam' como um argumento"
      ]
    },
    {
      "cell_type": "code",
      "metadata": {
        "id": "ePwYWkGX637R",
        "outputId": "058a4857-e88c-4725-e0ee-73c746819741",
        "colab": {
          "base_uri": "https://localhost:8080/"
        }
      },
      "source": [
        "def print_twice(texto):\n",
        "    print(texto)\n",
        "    print(texto)\n",
        "\n",
        "print_twice(mensagem)"
      ],
      "execution_count": null,
      "outputs": [
        {
          "output_type": "stream",
          "text": [
            "Olá\n",
            "Olá\n"
          ],
          "name": "stdout"
        }
      ]
    },
    {
      "cell_type": "markdown",
      "metadata": {
        "id": "N12gTtr37lYU"
      },
      "source": [
        "Defina uma nova função chamada do_four que recebe um objeto de função e um valor e chama a função quatro vezes, passando o valor como um parâmetro"
      ]
    },
    {
      "cell_type": "code",
      "metadata": {
        "id": "3ZTW3zge7mAp",
        "outputId": "3e300ed7-ae54-47dc-ce09-cf3566987162",
        "colab": {
          "base_uri": "https://localhost:8080/"
        }
      },
      "source": [
        "def de_four(f,texto):\n",
        "    f(texto)\n",
        "    f(texto)\n",
        "\n",
        "de_four(print_twice, mensagem)"
      ],
      "execution_count": null,
      "outputs": [
        {
          "output_type": "stream",
          "text": [
            "Olá\n",
            "Olá\n",
            "Olá\n",
            "Olá\n"
          ],
          "name": "stdout"
        }
      ]
    }
  ]
}