{
  "nbformat": 4,
  "nbformat_minor": 0,
  "metadata": {
    "colab": {
      "name": "Dúvidas2_estrela.ipynb",
      "provenance": [],
      "collapsed_sections": [],
      "authorship_tag": "ABX9TyNv5zMyUZBPMdX+PislPA2z",
      "include_colab_link": true
    },
    "kernelspec": {
      "name": "python3",
      "display_name": "Python 3"
    }
  },
  "cells": [
    {
      "cell_type": "markdown",
      "metadata": {
        "id": "view-in-github",
        "colab_type": "text"
      },
      "source": [
        "<a href=\"https://colab.research.google.com/github/eloijunior-py/pratice_pythonUERJ/blob/master/D%C3%BAvidas2_estrela.ipynb\" target=\"_parent\"><img src=\"https://colab.research.google.com/assets/colab-badge.svg\" alt=\"Open In Colab\"/></a>"
      ]
    },
    {
      "cell_type": "code",
      "metadata": {
        "id": "ZCDnYWFDTV6h"
      },
      "source": [
        "!pip3 install ColabTurtle\n",
        "import ColabTurtle"
      ],
      "execution_count": null,
      "outputs": []
    },
    {
      "cell_type": "code",
      "metadata": {
        "id": "d6gTB63dTcVS"
      },
      "source": [
        "leonardo = ColabTurtle.Turtle \n",
        "leonardo.initializeTurtle()\n",
        "def star(leonardo):\n",
        "    for i in range(5):\n",
        "        leonardo.color(\"red\")\n",
        "        leonardo.speed(6)\n",
        "        leonardo.forward(50)\n",
        "        leonardo.right(144)\n",
        "    \n",
        "\n",
        "\n",
        "star(leonardo)"
      ],
      "execution_count": null,
      "outputs": []
    },
    {
      "cell_type": "code",
      "metadata": {
        "id": "zdss6v5ST1aF"
      },
      "source": [
        "\"\"\"\n",
        "Não estou conseguindo fazer o exercício da estrela de uma maneira mais elegante\n",
        "e com um código mais resumido. No exemplo abaixo são muitas linhas, dá certo.\n",
        "Mas se fossem 1000 estrelas? Seria inviável executar dessa maneira. Gostaria de\n",
        "saber se tem alguma forma melhor de executar essa tarefa.\n",
        "\n",
        "\"\"\""
      ],
      "execution_count": null,
      "outputs": []
    },
    {
      "cell_type": "markdown",
      "metadata": {
        "id": "RrQ4MFyhsl-c"
      },
      "source": [
        "Sabendo o ângulo interno da ponta de uma estrela, desenhe quatro estrelas em uma janela, com uma certa distância entre elas."
      ]
    },
    {
      "cell_type": "code",
      "metadata": {
        "id": "EEBNPLLJrxch"
      },
      "source": [
        "leonardo.initializeTurtle()       \n",
        "       \n",
        "leonardo.penup()\n",
        "leonardo.goto(50,175)\n",
        "leonardo.pendown()        \n",
        "star(leonardo)\n",
        "\n",
        "leonardo.penup()\n",
        "leonardo.goto(100,175)\n",
        "leonardo.pendown()  \n",
        "star(leonardo)\n",
        "\n",
        "leonardo.penup()\n",
        "leonardo.goto(150,175)\n",
        "leonardo.pendown()  \n",
        "star(leonardo)\n",
        "\n",
        "leonardo.penup()\n",
        "leonardo.goto(200,175)\n",
        "leonardo.pendown()  \n",
        "star(leonardo)"
      ],
      "execution_count": null,
      "outputs": []
    },
    {
      "cell_type": "code",
      "metadata": {
        "id": "Moa0vG95r6Rf"
      },
      "source": [
        "\"\"\"\n",
        "Aqui eu tentei fazer definindo funções para ficar mais elegante e mais fácil de \n",
        "entender, contudo esbarrei no \"goto()\". Eu não consigo fazer de uma maneira que\n",
        "os argumentos dessa função recebam automaticamente valores que eu estabeleça. Só\n",
        "consigo fazer repetindo esse código várias vezes. Há alguma forma que eu consiga\n",
        "fazer essa tarefa usando funções?\n",
        "\n",
        "\"\"\""
      ],
      "execution_count": null,
      "outputs": []
    },
    {
      "cell_type": "code",
      "metadata": {
        "id": "-u6KPwXWTgMs"
      },
      "source": [
        "leonardo.initializeTurtle()\n",
        "\n",
        "def distance(leonardo):\n",
        "    for i in range(4):\n",
        "        leonardo.penup()\n",
        "        leonardo.goto(50,175)\n",
        "        leonardo.pendown()\n",
        "\n",
        "def four_star(star,distance):\n",
        "    for i in range(4):\n",
        "        star(leonardo)\n",
        "        distance(leonardo)\n",
        "        \n",
        "        \n",
        "\n",
        "four_star(star,distance)"
      ],
      "execution_count": null,
      "outputs": []
    }
  ]
}