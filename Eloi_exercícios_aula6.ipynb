{
  "nbformat": 4,
  "nbformat_minor": 0,
  "metadata": {
    "colab": {
      "name": "Eloi_exercícios_aula6",
      "provenance": [],
      "collapsed_sections": [],
      "authorship_tag": "ABX9TyMOmg9COL/jgjUVHeu6OALg",
      "include_colab_link": true
    },
    "kernelspec": {
      "name": "python3",
      "display_name": "Python 3"
    }
  },
  "cells": [
    {
      "cell_type": "markdown",
      "metadata": {
        "id": "view-in-github",
        "colab_type": "text"
      },
      "source": [
        "<a href=\"https://colab.research.google.com/github/eloijunior-py/pratice_pythonUERJ/blob/master/Eloi_exerc%C3%ADcios_aula6.ipynb\" target=\"_parent\"><img src=\"https://colab.research.google.com/assets/colab-badge.svg\" alt=\"Open In Colab\"/></a>"
      ]
    },
    {
      "cell_type": "markdown",
      "metadata": {
        "id": "vPBsd2FDqcYq"
      },
      "source": [
        "\n",
        "1) Modifique-o para que o resultado seja um histograma, como o mostrado na figura abaixo. Amplie seu script para que seja possível passar ao programa dados (frequência), com o valor do bin (classe de frequência) e cores determinados pelo usuário."
      ]
    },
    {
      "cell_type": "code",
      "metadata": {
        "id": "insIOFsdqeWi"
      },
      "source": [
        "!pip3 install ColabTurtle\n"
      ],
      "execution_count": null,
      "outputs": []
    },
    {
      "cell_type": "code",
      "metadata": {
        "id": "xNJysZP0-pOs"
      },
      "source": [
        "import ColabTurtle.Turtle as tess\n",
        "\n",
        "def draw_bar(t, height):\n",
        "    \"\"\" Get turtle t to draw one bar, of height. \"\"\"\n",
        "    t.forward(height)\n",
        "    t.right(90)\n",
        "    t.forward(40)\n",
        "    t.right(90)\n",
        "    t.forward(height)\n",
        "    t.left(90)\n",
        "    t.forward(10)\n",
        "    t.left(90)\n",
        "\n",
        "x=8\n",
        "bin = int(input(\"Insira o número de bins :\")) #Bin é o número de barras\n",
        "freq = []\n",
        "cor = input(\"Escolha a cor das barras \")\n",
        "\n",
        "def histograma(n):\n",
        "    if isinstance(n,list):\n",
        "      for i in range(bin):\n",
        "        dados = int(input(\"Insira os dados :\"))\n",
        "        freq.append(dados)\n",
        "      for dados in freq:\n",
        "        draw_bar(tess,dados)\n",
        "    else:\n",
        "      print(\"O argumento não é uma lista\")\n",
        "\n",
        "\n",
        "tess.initializeTurtle()   # inicialização\n",
        "tess.color(cor)\n",
        "tess.bgcolor(\"white\")\n",
        "tess.penup() #levantar a caneta\n",
        "tess.goto(10,450) #mudar posicao de inicio \n",
        "tess.pendown() #abaixar a caneta\n",
        "\n",
        "histograma(x)\n",
        "\n",
        "\n"
      ],
      "execution_count": null,
      "outputs": []
    },
    {
      "cell_type": "markdown",
      "metadata": {
        "id": "VMXjMmDzgKg7"
      },
      "source": [
        "2) Repita o exercício 1) usando Manipulação de exceção em Python (pesquisem!!!!), com as cláusulas try e except."
      ]
    },
    {
      "cell_type": "code",
      "metadata": {
        "id": "3Ui75iG0gLXZ"
      },
      "source": [
        "x=8\n",
        "bin2 = int(input(\"Insira o número de bins :\")) #Bin é o número de barras\n",
        "freq2 = []\n",
        "cor2 = input(\"Escolha a cor das barras \")\n",
        "\n",
        "def histograma_try(freq2):\n",
        "  try:\n",
        "    for i in range(bin2):\n",
        "      dados2 = int(input(\"Insira os dados :\"))\n",
        "      freq2.append(dados2)   \n",
        "    for dados2 in freq2:\n",
        "      draw_bar(tess,dados2)\n",
        "  except AttributeError:\n",
        "    print(\"O argumento não é uma lista\")\n",
        "\n",
        "\n",
        "\n",
        "import ColabTurtle.Turtle as tess\n",
        "tess.initializeTurtle()   # inicialização\n",
        "tess.color(cor2)\n",
        "#tess.bgcolor(\"white\")\n",
        "tess.penup() #levantar a caneta\n",
        "tess.goto(10,450) #mudar posicao de inicio \n",
        "tess.pendown() #abaixar a caneta\n",
        "\n",
        "histograma_try(5)"
      ],
      "execution_count": null,
      "outputs": []
    },
    {
      "cell_type": "markdown",
      "metadata": {
        "id": "I2ncYsZpI3H6"
      },
      "source": [
        "2) Desafio: Faça um programa equivalente ao do item 1., utilizando matplotlib e numpy ao invés de turtle"
      ]
    },
    {
      "cell_type": "code",
      "metadata": {
        "id": "fQMDvG6GI8sZ"
      },
      "source": [
        "import matplotlib.pyplot as plt\n",
        "import numpy as np\n",
        "import random\n",
        "\n",
        "x = int(input(\"Insira um valor entre 1 e 99 : \"))\n",
        "colores = input(\"Insira uma cor para o gráfico : \")\n",
        "\n",
        "x_rd = random.sample(range(100), x)\n",
        "\n",
        "plt.hist(x_rd, color=colores)\n",
        "\n"
      ],
      "execution_count": null,
      "outputs": []
    }
  ]
}