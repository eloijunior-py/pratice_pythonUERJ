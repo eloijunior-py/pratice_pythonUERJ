{
  "nbformat": 4,
  "nbformat_minor": 0,
  "metadata": {
    "colab": {
      "name": "Untitled1.ipynb",
      "provenance": [],
      "authorship_tag": "ABX9TyPOIr8eLW7n/2kALC/7+m/V",
      "include_colab_link": true
    },
    "kernelspec": {
      "name": "python3",
      "display_name": "Python 3"
    }
  },
  "cells": [
    {
      "cell_type": "markdown",
      "metadata": {
        "id": "view-in-github",
        "colab_type": "text"
      },
      "source": [
        "<a href=\"https://colab.research.google.com/github/eloijunior-py/pratice_pythonUERJ/blob/master/%5Cpratice_pythonUERJ%5Ctask_aula1.ipynb\" target=\"_parent\"><img src=\"https://colab.research.google.com/assets/colab-badge.svg\" alt=\"Open In Colab\"/></a>"
      ]
    },
    {
      "cell_type": "code",
      "metadata": {
        "id": "K0kPGqHcmW1o"
      },
      "source": [
        "#Exercício 3 aula 1\n",
        "\n",
        "#Se você fizer uma corrida de 10 quilômetros em 43 minutos e 30 segundos, \n",
        "#qual será seu tempo médio por milha? Qual é a sua velocidade média em milhas por hora? (Dica: há 1,61 quilômetros em uma milha).\n"
      ],
      "execution_count": 1,
      "outputs": []
    },
    {
      "cell_type": "code",
      "metadata": {
        "id": "fhyyVWHdmrXd",
        "outputId": "7a0b5264-95a3-4fcd-8d43-12ed5320f3ea",
        "colab": {
          "base_uri": "https://localhost:8080/",
          "height": 34
        }
      },
      "source": [
        "#Convertendo as unidades\n",
        "milhas = 10/1.61  #Transformando km para mi\n",
        "tempo = 0.725     #Transformando min para hora\n",
        "velocidade = milhas/tempo\n",
        "print(velocidade, \"(mi/h)\")"
      ],
      "execution_count": 7,
      "outputs": [
        {
          "output_type": "stream",
          "text": [
            "8.567144998929106 (mi/h)\n"
          ],
          "name": "stdout"
        }
      ]
    },
    {
      "cell_type": "code",
      "metadata": {
        "id": "1C0BWtbsnzTJ"
      },
      "source": [
        ""
      ],
      "execution_count": null,
      "outputs": []
    }
  ]
}