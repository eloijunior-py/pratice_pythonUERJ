{
  "nbformat": 4,
  "nbformat_minor": 0,
  "metadata": {
    "colab": {
      "name": "Dúvidas_try_except.ipynb",
      "provenance": [],
      "collapsed_sections": [],
      "authorship_tag": "ABX9TyMtlWbYnWrXwzDeeWFH5ocz",
      "include_colab_link": true
    },
    "kernelspec": {
      "name": "python3",
      "display_name": "Python 3"
    }
  },
  "cells": [
    {
      "cell_type": "markdown",
      "metadata": {
        "id": "view-in-github",
        "colab_type": "text"
      },
      "source": [
        "<a href=\"https://colab.research.google.com/github/eloijunior-py/pratice_pythonUERJ/blob/master/D%C3%BAvidas_try_except.ipynb\" target=\"_parent\"><img src=\"https://colab.research.google.com/assets/colab-badge.svg\" alt=\"Open In Colab\"/></a>"
      ]
    },
    {
      "cell_type": "markdown",
      "metadata": {
        "id": "aQXV7TPSzwCN"
      },
      "source": [
        "**Dúvida sobre try e except.**\n",
        "**Eu gostaria de alguma dica para conseguir fazer o exercício (Fiz pesquisas mas sem sucesso). Eu não sei se tenho que definir que o argumento da função deve ser sempre uma lista, porém não sei como fazer isso. Ou se somente na função é possível manipular o try e except para que quando o argumento não for uma função ele retornar uma mensagem.** \n",
        "\n",
        "**Abaixo o programa que estou tentando fazer funcionar. Grato.**"
      ]
    },
    {
      "cell_type": "code",
      "metadata": {
        "id": "ofhf-VORzxo9"
      },
      "source": [
        "def draw_bar(t, height):\n",
        "    \"\"\" Get turtle t to draw one bar, of height. \"\"\"\n",
        "    t.forward(height)\n",
        "    t.right(90)\n",
        "    t.forward(40)\n",
        "    t.right(90)\n",
        "    t.forward(height)\n",
        "    t.left(90)\n",
        "    t.forward(10)\n",
        "    t.left(90)\n",
        "\n",
        "    \n",
        "def histograma_try(n):\n",
        "  try:\n",
        "    for i in range(bin2):\n",
        "      dados2 = int(input(\"Insira os dados :\"))\n",
        "      freq2.append(dados2)   \n",
        "    for dados2 in freq2:\n",
        "      draw_bar(tess,dados2)\n",
        "  except:\n",
        "    print(\"O argumento não é uma lista\")\n",
        "\n",
        "\n",
        "\n",
        "import ColabTurtle.Turtle as tess\n",
        "tess.initializeTurtle()   # inicialização\n",
        "tess.color(cor2)\n",
        "#tess.bgcolor(\"white\")\n",
        "tess.penup() #levantar a caneta\n",
        "tess.goto(10,450) #mudar posicao de inicio \n",
        "tess.pendown() #abaixar a caneta\n",
        "\n",
        "histograma_try(5)"
      ],
      "execution_count": null,
      "outputs": []
    }
  ]
}