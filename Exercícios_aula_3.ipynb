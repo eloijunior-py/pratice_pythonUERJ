{
  "nbformat": 4,
  "nbformat_minor": 0,
  "metadata": {
    "colab": {
      "name": "Exercícios aula 3.ipynb",
      "provenance": [],
      "collapsed_sections": [],
      "authorship_tag": "ABX9TyPqZJ1fpm/ZU2uF5I3KYn1Z",
      "include_colab_link": true
    },
    "kernelspec": {
      "name": "python3",
      "display_name": "Python 3"
    }
  },
  "cells": [
    {
      "cell_type": "markdown",
      "metadata": {
        "id": "view-in-github",
        "colab_type": "text"
      },
      "source": [
        "<a href=\"https://colab.research.google.com/github/eloijunior-py/pratice_pythonUERJ/blob/master/Exerc%C3%ADcios_aula_3.ipynb\" target=\"_parent\"><img src=\"https://colab.research.google.com/assets/colab-badge.svg\" alt=\"Open In Colab\"/></a>"
      ]
    },
    {
      "cell_type": "code",
      "metadata": {
        "id": "_hnzRuhmVFCG"
      },
      "source": [
        "#Exercícios aula 3"
      ],
      "execution_count": null,
      "outputs": []
    },
    {
      "cell_type": "code",
      "metadata": {
        "id": "ghhK76gibjbS",
        "outputId": "41ff666c-6263-4d50-cc98-5b4e41b6b236",
        "colab": {
          "base_uri": "https://localhost:8080/",
          "height": 51
        }
      },
      "source": [
        "# 1 - Crie uma função que tome um argumento e imprima o valor e o tipo dele.\n",
        "def arg(y):\n",
        "    y = 69\n",
        "print(\"O valor da função é: \",arg)\n",
        "print(\"O tipo é: \",type(arg))\n",
        "   \n",
        "\n",
        "    \n"
      ],
      "execution_count": 7,
      "outputs": [
        {
          "output_type": "stream",
          "text": [
            "O valor da função é:  <function arg at 0x7ff96fe31840>\n",
            "O tipo é:  <class 'function'>\n"
          ],
          "name": "stdout"
        }
      ]
    },
    {
      "cell_type": "code",
      "metadata": {
        "id": "86UR7SBffyXo",
        "outputId": "d2bd7563-007e-48ce-ac4a-eb201c7313a1",
        "colab": {
          "base_uri": "https://localhost:8080/",
          "height": 34
        }
      },
      "source": [
        "# 2 - MRU - velocidade média\n",
        "def velocidade_media():\n",
        "    vm = (pos_fi - pos_in)/tempo\n",
        "    print(\"A velocidade média é: \", vm, \"(m/s)\")\n",
        "pos_fi = 60\n",
        "pos_in = 30\n",
        "tempo = 3\n",
        "velocidade_media()"
      ],
      "execution_count": 9,
      "outputs": [
        {
          "output_type": "stream",
          "text": [
            "A velocidade média é:  10.0 (m/s)\n"
          ],
          "name": "stdout"
        }
      ]
    },
    {
      "cell_type": "code",
      "metadata": {
        "id": "_8xWgEfbqXfO",
        "outputId": "c2ed287f-0167-40e3-aadd-10fcca49c522",
        "colab": {
          "base_uri": "https://localhost:8080/",
          "height": 34
        }
      },
      "source": [
        "# 2 MRUA - queda livre\n",
        "def queda_livre():\n",
        "    ql = gravidade*temp\n",
        "    print(\"A velocidade de queda é: \",ql, \"(m/s)\")\n",
        "gravidade = 9.8\n",
        "temp = 5\n",
        "queda_livre()"
      ],
      "execution_count": 10,
      "outputs": [
        {
          "output_type": "stream",
          "text": [
            "A velocidade de queda é:  49.0 (m/s)\n"
          ],
          "name": "stdout"
        }
      ]
    },
    {
      "cell_type": "code",
      "metadata": {
        "id": "h7OhhdI6zHKY",
        "outputId": "318f1f77-6d85-4957-dd15-06f51b737344",
        "colab": {
          "base_uri": "https://localhost:8080/",
          "height": 34
        }
      },
      "source": [
        "# 3 - angulo zenital\n",
        "def angulo_zenital(altura, sombra):\n",
        "    import math\n",
        "    tan = altura/sombra\n",
        "    ang_elev_sol = math.atan(tan) #ângulo de elevação solar\n",
        "    alfa = 90\n",
        "    alfa_rad = math.radians(alfa)\n",
        "    z = alfa_rad - ang_elev_sol   # relação entre a elevação solar e o ângulo zenital(z)\n",
        "    print(f\"O ângulo zenital do sol para altura de {altura} e sombra de {sombra} é :\", z, \"(rad)\")\n",
        "\n",
        "\n",
        "angulo_zenital(1.70,3.10)\n",
        "\n"
      ],
      "execution_count": 11,
      "outputs": [
        {
          "output_type": "stream",
          "text": [
            "O ângulo zenital do sol para altura de 1.7 e sombra de 3.1 é : 1.069192272605776 (rad)\n"
          ],
          "name": "stdout"
        }
      ]
    },
    {
      "cell_type": "code",
      "metadata": {
        "id": "bTof7URj8gjW",
        "outputId": "dc99e284-9425-4a9a-c7ed-df9f1965fdcb",
        "colab": {
          "base_uri": "https://localhost:8080/",
          "height": 51
        }
      },
      "source": [
        "# 4 - Conversor mi para m e horas para segundos\n",
        "# 4 - Função de conversão de milhas para metros\n",
        "def mi_to_m(milha):  \n",
        "    metro = milha/ 0.00062137\n",
        "    print(\"O valor em metros é :\",metro, \"(m)\")\n",
        "milha = float(input(\"Digite o valor de milhas :\"))\n",
        "conversao_mi_m = mi_to_m(milha)\n",
        "\n",
        "    "
      ],
      "execution_count": 12,
      "outputs": [
        {
          "output_type": "stream",
          "text": [
            "Digite o valor de milhas :1\n",
            "O valor em metros é : 1609.3470878864446 (m)\n"
          ],
          "name": "stdout"
        }
      ]
    },
    {
      "cell_type": "code",
      "metadata": {
        "id": "PK5V-yJw9G_p",
        "outputId": "0ccb1c87-a408-4c31-a700-3e433c88735e",
        "colab": {
          "base_uri": "https://localhost:8080/",
          "height": 34
        }
      },
      "source": [
        "# 4 - Função de conversão de metros para milhas\n",
        "def m_to_mi(metro_mi):\n",
        "    milha_m = metro_mi*0.00062137\n",
        "    #print(\"O valor em milhas é :\", milha_m, \"(mi)\")\n",
        "    return milha_m\n",
        "metro_mi = float(input(\"Digite a o valor de metros :\"))\n",
        "conversao_m_mi = m_to_mi(metro_mi)"
      ],
      "execution_count": 13,
      "outputs": [
        {
          "output_type": "stream",
          "text": [
            "Digite a o valor de metros :1\n"
          ],
          "name": "stdout"
        }
      ]
    },
    {
      "cell_type": "code",
      "metadata": {
        "id": "9KusooYdJUAC",
        "outputId": "496cdae3-3589-4649-993c-0e11f7ef2c7f",
        "colab": {
          "base_uri": "https://localhost:8080/",
          "height": 51
        }
      },
      "source": [
        "# 4 - Função conversão horas para segundos\n",
        "def h_to_s(hora):\n",
        "    segundos = hora * 3600\n",
        "    print(\"O valor em horas é de :\", segundos)\n",
        "\n",
        "hora = float(input(\"Digite o valor de horas :\"))\n",
        "conversao = h_to_s(hora)"
      ],
      "execution_count": 14,
      "outputs": [
        {
          "output_type": "stream",
          "text": [
            "Digite o valor de horas :1\n",
            "O valor em horas é de : 3600.0\n"
          ],
          "name": "stdout"
        }
      ]
    },
    {
      "cell_type": "code",
      "metadata": {
        "id": "_Y9FaM7ZMYLD",
        "outputId": "b1cfa8d5-1a92-450b-97ef-26aa127a32a7",
        "colab": {
          "base_uri": "https://localhost:8080/",
          "height": 51
        }
      },
      "source": [
        "# 4 - Função de conversão de segundos para horas\n",
        "def s_to_h(segundos_h):\n",
        "    hora_s = segundos_h/3600\n",
        "    print(\"O valor em horas é de :\",hora_s)\n",
        "    return hora_s\n",
        "segundos_h = float(input(\"Digite o valor em segundos :\"))\n",
        "conver_s_h = s_to_h(segundos_h)\n"
      ],
      "execution_count": 16,
      "outputs": [
        {
          "output_type": "stream",
          "text": [
            "Digite o valor em segundos :1\n",
            "O valor em horas é de : 0.0002777777777777778\n"
          ],
          "name": "stdout"
        }
      ]
    },
    {
      "cell_type": "code",
      "metadata": {
        "id": "UAwqqm5XOYVe",
        "outputId": "62d1201f-129c-4b6f-d4a9-21989de99183",
        "colab": {
          "base_uri": "https://localhost:8080/",
          "height": 34
        }
      },
      "source": [
        "# 4 - Milhas para km\n",
        "def mi_to_km(milhas_km):\n",
        "    km = milhas_km*1.61\n",
        "    #print(\"O valor em km é :\", km)\n",
        "    return km\n",
        "\n",
        "mi_to_km(1)\n",
        "\n"
      ],
      "execution_count": 17,
      "outputs": [
        {
          "output_type": "execute_result",
          "data": {
            "text/plain": [
              "1.61"
            ]
          },
          "metadata": {
            "tags": []
          },
          "execution_count": 17
        }
      ]
    },
    {
      "cell_type": "code",
      "metadata": {
        "id": "52U29-IhSeFc",
        "outputId": "65b0c27d-911f-4762-dff2-bf761ae33bdf",
        "colab": {
          "base_uri": "https://localhost:8080/",
          "height": 34
        }
      },
      "source": [
        "# 4 - km para milhas\n",
        "def km_to_mi(km_mi):\n",
        "    milh = km_mi/1.61\n",
        "    #print(\"O valor em milhas é :\", milh)\n",
        "    return milh \n",
        "\n",
        "km_to_mi(1)"
      ],
      "execution_count": 18,
      "outputs": [
        {
          "output_type": "execute_result",
          "data": {
            "text/plain": [
              "0.6211180124223602"
            ]
          },
          "metadata": {
            "tags": []
          },
          "execution_count": 18
        }
      ]
    },
    {
      "cell_type": "code",
      "metadata": {
        "id": "Hc9dYqVlS9i5",
        "outputId": "e2339f75-6605-42b8-ce68-8e3b303d83f8",
        "colab": {
          "base_uri": "https://localhost:8080/",
          "height": 34
        }
      },
      "source": [
        "# 4 - minuto para hora\n",
        "def min_to_hour(minutes):\n",
        "    hour = minutes / 60\n",
        "    #print(hour)\n",
        "    return hour\n",
        "\n",
        "min_to_hour(43.5)\n"
      ],
      "execution_count": 19,
      "outputs": [
        {
          "output_type": "execute_result",
          "data": {
            "text/plain": [
              "0.725"
            ]
          },
          "metadata": {
            "tags": []
          },
          "execution_count": 19
        }
      ]
    },
    {
      "cell_type": "code",
      "metadata": {
        "id": "kNgw-8RUTaxx",
        "outputId": "80107882-b558-43a1-8ee9-7ad3620e5bca",
        "colab": {
          "base_uri": "https://localhost:8080/",
          "height": 51
        }
      },
      "source": [
        "# 4 - Exercício da aula 1 \n",
        "distance = km_to_mi(10)\n",
        "times = min_to_hour(43.5)\n",
        "\n",
        "speed = distance/times\n",
        "print(\"A velocidade média é :\", speed, \"(km/hora)\")\n",
        "\n",
        "#Tempo médio por mi\n",
        "temp_med = distance / speed\n",
        "print(\"O tempo médio é de : \", temp_med, \"(hora)\")\n"
      ],
      "execution_count": 20,
      "outputs": [
        {
          "output_type": "stream",
          "text": [
            "A velocidade média é : 8.567144998929106 (km/hora)\n",
            "O tempo médio é de :  0.725 (hora)\n"
          ],
          "name": "stdout"
        }
      ]
    },
    {
      "cell_type": "code",
      "metadata": {
        "id": "4_EF0VeZUxWY",
        "outputId": "5790d29a-e520-42e0-90ca-eb98128b892a",
        "colab": {
          "base_uri": "https://localhost:8080/",
          "height": 51
        }
      },
      "source": [
        "# 4 - Se uma pessoa demora 30 minutos em 4 milhas, qual velocidade media em km/h ? \n",
        "temp1 = min_to_hour(30)\n",
        "dist1 = mi_to_km(4)\n",
        "vel = dist1 / temp1\n",
        "print(\"A velocidade média é :\", vel, \"(km/h)\")\n",
        "\n",
        "#e o tempo medio por km?\n",
        "\n",
        "temp_med1 = dist1 / vel\n",
        "print(\"O tempo médio é :\", temp_med, \"(hora)\")\n"
      ],
      "execution_count": 21,
      "outputs": [
        {
          "output_type": "stream",
          "text": [
            "A velocidade média é : 12.88 (km/h)\n",
            "O tempo médio é : 0.725 (hora)\n"
          ],
          "name": "stdout"
        }
      ]
    },
    {
      "cell_type": "code",
      "metadata": {
        "id": "miGlSUm3VXZc",
        "outputId": "976def71-8a91-4443-f624-64dd3828bb86",
        "colab": {
          "base_uri": "https://localhost:8080/",
          "height": 34
        }
      },
      "source": [
        "# 5 - IMC da aula anterior \n",
        "def IMC(massa,altura):\n",
        "    imc = massa/(altura)**2\n",
        "    print(\"Seu IMC é :\", imc)\n",
        "\n",
        "massa = 120\n",
        "altura = 1.80\n",
        "IMC(massa,altura)"
      ],
      "execution_count": 22,
      "outputs": [
        {
          "output_type": "stream",
          "text": [
            "Seu IMC é : 37.03703703703704\n"
          ],
          "name": "stdout"
        }
      ]
    },
    {
      "cell_type": "code",
      "metadata": {
        "id": "Bj9Jj12uk9Pj",
        "outputId": "3fd466be-2080-414f-dc28-174bab969585",
        "colab": {
          "base_uri": "https://localhost:8080/",
          "height": 34
        }
      },
      "source": [
        "# 5 - Raio de uma esfera aula anterior\n",
        "def RAIO(r):\n",
        "    pi = 3.14\n",
        "    c = 4/3\n",
        "    v = c*(pi*r**3)\n",
        "    print(\"O volume da esfera é :\", v, \"(m³)\")\n",
        "\n",
        "raio = 0.5\n",
        "RAIO(raio)\n"
      ],
      "execution_count": 23,
      "outputs": [
        {
          "output_type": "stream",
          "text": [
            "O volume da esfera é : 0.5233333333333333 (m³)\n"
          ],
          "name": "stdout"
        }
      ]
    },
    {
      "cell_type": "code",
      "metadata": {
        "id": "UDq6a0fGmWPy",
        "outputId": "cd30e63c-02e7-403a-8060-06b11bf366ee",
        "colab": {
          "base_uri": "https://localhost:8080/",
          "height": 34
        }
      },
      "source": [
        "# 5 - espaçamento entre fendas aula anterior\n",
        "def fenda(D):\n",
        "    comprimento_onda = 623.8*1e-9\n",
        "    d = 0.250*1e-3\n",
        "    delta_y = (comprimento_onda*D)/d\n",
        "    print(\"A distância entre dois máximos é :\", delta_y)\n",
        "\n",
        "D = 1.98\n",
        "fenda(D)\n"
      ],
      "execution_count": 24,
      "outputs": [
        {
          "output_type": "stream",
          "text": [
            "A distância entre dois máximos é : 0.004940495999999999\n"
          ],
          "name": "stdout"
        }
      ]
    },
    {
      "cell_type": "code",
      "metadata": {
        "id": "UyRmuvHfpbqH"
      },
      "source": [
        ""
      ],
      "execution_count": null,
      "outputs": []
    }
  ]
}