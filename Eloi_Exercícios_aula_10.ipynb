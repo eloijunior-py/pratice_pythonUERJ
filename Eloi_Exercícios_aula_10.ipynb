{
  "nbformat": 4,
  "nbformat_minor": 0,
  "metadata": {
    "colab": {
      "name": "Eloi_Exercícios_aula_10.ipynb",
      "provenance": [],
      "collapsed_sections": [],
      "authorship_tag": "ABX9TyNA5NsmGGDquI0IifFh+7bO",
      "include_colab_link": true
    },
    "kernelspec": {
      "name": "python3",
      "display_name": "Python 3"
    }
  },
  "cells": [
    {
      "cell_type": "markdown",
      "metadata": {
        "id": "view-in-github",
        "colab_type": "text"
      },
      "source": [
        "<a href=\"https://colab.research.google.com/github/eloijunior-py/pratice_pythonUERJ/blob/master/Eloi_Exerc%C3%ADcios_aula_10.ipynb\" target=\"_parent\"><img src=\"https://colab.research.google.com/assets/colab-badge.svg\" alt=\"Open In Colab\"/></a>"
      ]
    },
    {
      "cell_type": "markdown",
      "metadata": {
        "id": "2hMuxzGLio2j"
      },
      "source": [
        "1. Quantos intervalos (ou qual largura de intervalo) é preciso implementar para ter uma precisão de 1% no resultado numérico na integração de $f(x)$ de 0 a 10?\n",
        "$\\dfrac{R_{num}-R_{an}}{R_{an}} \\leq 1\\% $"
      ]
    },
    {
      "cell_type": "code",
      "metadata": {
        "id": "Hsx_E2v7iNOj"
      },
      "source": [
        "import matplotlib.pyplot as plt\n",
        "import numpy as np\n",
        "import math"
      ],
      "execution_count": 1,
      "outputs": []
    },
    {
      "cell_type": "code",
      "metadata": {
        "id": "DeAvTqRtim3e"
      },
      "source": [
        "x_i = 0\n",
        "x_f = 10\n",
        "dx = 0.01\n",
        "n_steps = round((x_f - x_i)/dx)\n",
        "\n",
        "x = np.arange(x_i,x_f,dx)\n",
        "\n",
        "r_analitics = 0.9999546000702375\n",
        "S1 = 0\n",
        "precisao = abs(S1 - r_analitics)/r_analitics\n",
        "\n",
        "while (abs(precisao)) > 0.001:\n",
        "  x = np.arange(x_i,x_f,dx)\n",
        "  S1= 0\n",
        "  for xi in x:\n",
        "    S1 = S1+ math.exp(-xi) * dx\n",
        "  precisao = abs(S1 - r_analitics)/r_analitics\n",
        "  dx= dx/10\n",
        "  \n",
        "  print(precisao,S1)\n",
        "  \n"
      ],
      "execution_count": null,
      "outputs": []
    },
    {
      "cell_type": "markdown",
      "metadata": {
        "id": "iMLLO5ji_NpP"
      },
      "source": [
        "2. Faça a integração numérica pela esquerda da mesma função. Compare o resultado com a integração pela direita."
      ]
    },
    {
      "cell_type": "code",
      "metadata": {
        "id": "_FXWcC8s_M1-"
      },
      "source": [
        "x_i = 0\n",
        "x_f = 10\n",
        "dx = 0.1\n",
        "xd = np.arange(x_i,x_f,dx) \n",
        "xdd = len(xd)-1\n",
        "\n",
        "r_analitics = 0.9999546000702375\n",
        "S1d = 0\n",
        "precisaod = abs(S1d - r_analitics)/r_analitics\n",
        "\n",
        "while (abs(precisaod)) > 0.001:\n",
        "  xd = np.arange(x_i,x_f,dx) \n",
        "  S1d = 0\n",
        "  for xi in range(len(xd)-1):\n",
        "    S1d = S1d + math.exp(-xi)*dx\n",
        "    precisaod = abs(S1 - r_analitics)/r_analitics\n",
        "    dx=dx/10\n",
        "\n",
        "    #print(precisaod, S1d)\n",
        "print(precisaod, S1d)\n",
        "print(precisao,S1)\n"
      ],
      "execution_count": null,
      "outputs": []
    },
    {
      "cell_type": "markdown",
      "metadata": {
        "id": "QlYh-uc2JdhJ"
      },
      "source": [
        "3. Faça a integração por trapézios. Lembre que a área de um trapézio é dada por: $A=\\frac{(a + b)h}{2}$"
      ]
    },
    {
      "cell_type": "code",
      "metadata": {
        "id": "_3sLIlhQJgrH"
      },
      "source": [
        "def function (x): \n",
        "  exp = np.exp(-x)\n",
        "  return exp\n",
        "\n",
        "def trapezoid (f, x):\n",
        "  area = 0\n",
        "  N = len(x)\n",
        "  dx = x[1] - x[0]\n",
        "  for i in range(1, N):\n",
        "    area = area + (f(x[i-1])+f(x[i])) * dx/2\n",
        "  \n",
        "  return area\n",
        "\n",
        "x_i = 0\n",
        "x_f = 10\n",
        "dx = 0.01\n",
        "\n",
        "xt = np.arange(x_i,x_f,dx)\n",
        "\n",
        "trapezoid(function, xt)"
      ],
      "execution_count": null,
      "outputs": []
    },
    {
      "cell_type": "markdown",
      "metadata": {
        "id": "r138fR3YYx34"
      },
      "source": [
        "4. Faça a integração numérica das funções trigonométricas $\\sin(x)$ e $\\cos(x)$ num período de 0 a 2pi"
      ]
    },
    {
      "cell_type": "code",
      "metadata": {
        "id": "R-pM8oikYy-J"
      },
      "source": [
        "def right_riemann (f,l1,l2):\n",
        "  dx = 0.1\n",
        "  xrr = np.arange(l1, l2, dx)\n",
        "  Srr = 0\n",
        "  for i in range(len(xrr)-1):\n",
        "    Srr = Srr + f(xrr[i])*dx\n",
        "  return Srr \n",
        "\n",
        "def trapezoid2 (f, l1, l2):\n",
        "  dx = 0.1\n",
        "  xt = np.arange(l1, l2, dx)\n",
        "  area = 0\n",
        "  N = len(xt)\n",
        "  dx = xt[1] - xt[0]\n",
        "  for i in range(1, N):\n",
        "    area = area + (f(xt[i-1])+f(xt[i])) * dx/2\n",
        "  \n",
        "  return area\n",
        "\n",
        "def left_riemann (f,l1,l2):\n",
        "  dx = 0.1\n",
        "  xlf = np.arange(l1, l2, dx)\n",
        "  Slf = 0\n",
        "  for i in range(1, len(xlf)):\n",
        "    Slf = Slf + f(xlf[i])*dx\n",
        "  return Slf \n",
        "\n",
        "\n",
        "print (\"Riemann right (Sen): \", right_riemann( np.sin,0, np.pi))\n",
        "print (\"Riemann right (Cos): \", right_riemann( np.cos,0, np.pi))\n",
        "\n",
        "print (\"Riemann left (Sen): \", left_riemann( np.sin,0, np.pi))\n",
        "print (\"Riemann left (Cos): \", left_riemann( np.cos,0, np.pi))\n",
        "\n",
        "print (\"Trapezoid (Sen): \", trapezoid2( np.sin,0, np.pi))\n",
        "print (\"Trapezoid (Cos): \", trapezoid2( np.cos,0, np.pi))\n"
      ],
      "execution_count": null,
      "outputs": []
    },
    {
      "cell_type": "markdown",
      "metadata": {
        "id": "CSwYhRMA4s8O"
      },
      "source": [
        "5. Faça a integração das funções hiperbólicas $\\sinh(x)$ e $\\cosh(x)$ no intervalo $0-10$."
      ]
    },
    {
      "cell_type": "code",
      "metadata": {
        "id": "hD1v2Vnb4wnT"
      },
      "source": [
        "def right_riemann (f,l1,l2):\n",
        "  dx = 0.1\n",
        "  xrr = np.arange(l1, l2, dx)\n",
        "  Srr = 0\n",
        "  for i in range(len(xrr)-1):\n",
        "    Srr = Srr + f(xrr[i])*dx\n",
        "  return Srr \n",
        "\n",
        "def left_riemann (f,l1,l2):\n",
        "  dx = 0.1\n",
        "  xlf = np.arange(l1, l2, dx)\n",
        "  Slf = 0\n",
        "  for i in range(1, len(xlf)):\n",
        "    Slf = Slf + f(xlf[i])*dx\n",
        "  return Slf \n",
        "\n",
        "def trapezoid2 (f, l1, l2):\n",
        "  dx = 0.1\n",
        "  xt = np.arange(l1, l2, dx)\n",
        "  area = 0\n",
        "  N = len(xt)\n",
        "  dx = xt[0] - xt[1]\n",
        "  for i in range(1, N):\n",
        "    area = area + (f(xt[i-1])+f(xt[i])) * dx/2\n",
        "  \n",
        "  return area\n",
        "\n",
        "\n",
        "print (\"Riemann right (Sen): \", right_riemann( np.sinh,0, -10))\n",
        "print (\"Riemann right (Cos): \", right_riemann( np.cosh,0, -10))\n",
        "\n",
        "print (\"Riemann left (Sen): \", left_riemann( np.sinh,0, -10))\n",
        "print (\"Riemann left (Cos): \", left_riemann( np.cosh,0, -10))\n",
        "\n",
        "\n"
      ],
      "execution_count": null,
      "outputs": []
    }
  ]
}