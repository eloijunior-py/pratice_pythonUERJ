{
  "nbformat": 4,
  "nbformat_minor": 0,
  "metadata": {
    "colab": {
      "name": "Dúvidas_Flores.ipynb",
      "provenance": [],
      "authorship_tag": "ABX9TyN2/psq63yUkapmD9zoArwa",
      "include_colab_link": true
    },
    "kernelspec": {
      "name": "python3",
      "display_name": "Python 3"
    }
  },
  "cells": [
    {
      "cell_type": "markdown",
      "metadata": {
        "id": "view-in-github",
        "colab_type": "text"
      },
      "source": [
        "<a href=\"https://colab.research.google.com/github/eloijunior-py/pratice_pythonUERJ/blob/master/D%C3%BAvidas_Flores.ipynb\" target=\"_parent\"><img src=\"https://colab.research.google.com/assets/colab-badge.svg\" alt=\"Open In Colab\"/></a>"
      ]
    },
    {
      "cell_type": "code",
      "metadata": {
        "id": "0enkNDOtUFcq"
      },
      "source": [
        "\"\"\"\n",
        "Olá professores. Na função \"draw_all\", abaixo, eu utilizei do input para definir\n",
        "a quantidade de pétalas que a função desenha. Contudo, gostaria de saber se é\n",
        "possível de alguma maneira eu definir previamente as quantidade de pétalas e a \n",
        "função executar. Por exemplo: eu defino qtd = [7,10,20] e de alguma forma o python\n",
        "insere esses valores um de cada vez no argumento \"petals\" e executa a função \n",
        "\"draw_all\" ou \"draw_4flowers\" para cada valor.\n",
        "\"\"\""
      ],
      "execution_count": null,
      "outputs": []
    },
    {
      "cell_type": "code",
      "metadata": {
        "id": "p2c8XibqUUCf"
      },
      "source": [
        "import math\n",
        "\n",
        "def draw_arc(b,r):  \n",
        "    c=2*math.pi*r #Circunferencia do circulo\n",
        "    ca=c/(360/60)  #Circunferencia do arco\n",
        "    n=int(ca/3)+1  #numero de segmentos\n",
        "    l=ca/n  #comprimento do segmento\n",
        "    for i in range(n):\n",
        "        b.forward(2)\n",
        "        b.left(360/(n*6))\n",
        "\n",
        "\n",
        "def draw_petal(b,r,petals):\n",
        "    draw_arc(b,r)\n",
        "    b.left(180-60)\n",
        "    draw_arc(b,r)\n",
        "    b.right(360/petals-30)  # Correção\n",
        "\n",
        "def step(bw=200):\n",
        "\n",
        "    raphael.penup()\n",
        "    raphael.left(90)\n",
        "    raphael.backward(bw)\n",
        "    raphael.pendown()\n",
        "\n",
        "\n",
        "raphael=ColabTurtle.Turtle\n",
        "raphael.initializeTurtle()\n",
        "raphael.speed(10)\n",
        "\n",
        "def draw_4flowers(draw_petal,r,petals):\n",
        "    for i in range(petals):\n",
        "        draw_petal(raphael,r,petals)\n",
        "        raphael.left(360/4)\n",
        "\n",
        "def draw_all(draw_4flowers):\n",
        "    for i in range(4):\n",
        "        petals = int(input(\"Insira quantidade de pétalas :\"))\n",
        "        draw_4flowers(draw_petal,80,petals)\n",
        "        step(bw=200)\n",
        "\n",
        "draw_all(draw_4flowers)\n"
      ],
      "execution_count": null,
      "outputs": []
    }
  ]
}