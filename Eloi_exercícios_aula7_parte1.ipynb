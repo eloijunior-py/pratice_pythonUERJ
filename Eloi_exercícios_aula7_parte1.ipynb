{
  "nbformat": 4,
  "nbformat_minor": 0,
  "metadata": {
    "colab": {
      "name": "Eloi_exercícios_aula7_parte1.ipynb",
      "provenance": [],
      "authorship_tag": "ABX9TyNSoJLuzENeafTOgiNLo1T2",
      "include_colab_link": true
    },
    "kernelspec": {
      "name": "python3",
      "display_name": "Python 3"
    }
  },
  "cells": [
    {
      "cell_type": "markdown",
      "metadata": {
        "id": "view-in-github",
        "colab_type": "text"
      },
      "source": [
        "<a href=\"https://colab.research.google.com/github/eloijunior-py/pratice_pythonUERJ/blob/master/Eloi_exerc%C3%ADcios_aula7_parte1.ipynb\" target=\"_parent\"><img src=\"https://colab.research.google.com/assets/colab-badge.svg\" alt=\"Open In Colab\"/></a>"
      ]
    },
    {
      "cell_type": "markdown",
      "metadata": {
        "id": "5rBsL7DDRqUG"
      },
      "source": [
        "1) A conjectura de Collatz, diz que \"Todos os inteiros positivos irão eventualmente convergir para 1 usando as regras do Collatz\". Faça um programa que verifique a conjectura de Collatz para alguns valores. As regras de Collatz são: Dado um número n:\n",
        "\n",
        "se n for par, divida-o por 2;\n",
        "Se n for ímpar, atualize-o para 3*n + 1"
      ]
    },
    {
      "cell_type": "code",
      "metadata": {
        "id": "pqjyxbysRuUy"
      },
      "source": [
        "def collatz():\n",
        "  lista = []\n",
        "  range = 4\n",
        "  i = 0\n",
        "  while i < range:\n",
        "    numero = int(input(\"Insira os números : \"))\n",
        "    lista.append(numero)\n",
        "    i = i+1\n",
        "  for numero in lista:\n",
        "    if numero % 2 == 0:\n",
        "      result_par = numero / 2\n",
        "      print(\"O resultado para  \", numero, \"é : \", result_par)\n",
        "    else:\n",
        "      result_impar = 3*numero+1\n",
        "      print(\"Valor\", numero, \"foi atualizado para \", result_impar)\n",
        "\n",
        "collatz()\n",
        " "
      ],
      "execution_count": null,
      "outputs": []
    },
    {
      "cell_type": "markdown",
      "metadata": {
        "id": "uPm5HngMYR8f"
      },
      "source": [
        "2) Modifique a função counter para contar o número de vezes que os dígitos 0 e 5 aparecem em um dado número n. Por exemplo, n = 10568, tem 2 dígitos 0 ou 5."
      ]
    },
    {
      "cell_type": "code",
      "metadata": {
        "id": "qoLzPH3_dM85"
      },
      "source": [
        "# 1ª opção\n",
        "def counter():\n",
        "  entrada = input(\"Insira o número : \")\n",
        "  entrada_list = list(map(int, entrada))\n",
        "  entrada_list.count(0)\n",
        "  print(\"Há\", entrada_list.count(0), \"zeros\")\n",
        "  entrada_list.count(5)\n",
        "  print(\"Há\", entrada_list.count(5), \"cincos\")\n",
        "\n",
        "counter()\n"
      ],
      "execution_count": null,
      "outputs": []
    },
    {
      "cell_type": "code",
      "metadata": {
        "id": "V4HKS6RwnP6Z"
      },
      "source": [
        "# 2ª opção\n",
        "\n",
        "dig = []\n",
        "def counter2(n):\n",
        "  #n = int(input(\"Escreva um número inteiro diferente de zero : \")) \n",
        "\n",
        "  while (n > 0):   \n",
        "    dig.insert(0, n%10)\n",
        "    n = (n - n % 10) // 10\n",
        " \n",
        "  dig.count(0)\n",
        "  print(\"Há\", dig.count(0), \"zeros\")\n",
        "  dig.count(5)\n",
        "  print(\"Há\", dig.count(5), \"cincos\")\n",
        "\n",
        "counter2(10505)\n"
      ],
      "execution_count": null,
      "outputs": []
    },
    {
      "cell_type": "markdown",
      "metadata": {
        "id": "Nn0QwfBRZTXy"
      },
      "source": [
        "3) Encapsule e generalize a seguinte declaração:"
      ]
    },
    {
      "cell_type": "code",
      "metadata": {
        "id": "JkP_dl_fb8VL"
      },
      "source": [
        "def func_par2 (i):\n",
        "  lista2 = []\n",
        "  lista2.append(i)\n",
        "  for i in lista2:\n",
        "      \n",
        "      if i % 2 == 1:  # If the number is odd\n",
        "        break        #  ... immediately exit the loop\n",
        "      print(i)\n",
        "  print(\"done\")\n",
        "\n",
        "func_par2(2)"
      ],
      "execution_count": null,
      "outputs": []
    },
    {
      "cell_type": "markdown",
      "metadata": {
        "id": "Uyez_9nRh8rg"
      },
      "source": [
        "4) O método de Newton para raiz quadrada. Suponha que você queira calcular a raiz quadrada de n. Se você começar com quase qualquer aproximação, poderá calcular uma aproximação melhor (mais próxima da resposta real) com a seguinte fórmula: melhor = (approx + n/approx)/2\n",
        "\n",
        "Usando um loop e repetindo esta fórmula até que a melhor aproximação se aproxime o suficiente da anterior (podemos considerar uma diferença de 0,001), podemos escrever uma função para calcular a raiz quadrada."
      ]
    },
    {
      "cell_type": "code",
      "metadata": {
        "id": "NTKDkYDHh7vd"
      },
      "source": [
        "def raiz_quadrada(n, prec = 0.001):\n",
        "  \n",
        "  num = n\n",
        "\n",
        "  while True:\n",
        "    melhor = 0.5*(num + (n/num))\n",
        "    z = abs(melhor - num)\n",
        "    if z < prec:\n",
        "      break\n",
        "    num = melhor\n",
        "  return melhor\n",
        "\n",
        "\n",
        "raiz_quadrada(9, prec = 0.001)"
      ],
      "execution_count": null,
      "outputs": []
    }
  ]
}