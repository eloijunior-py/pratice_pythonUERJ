{
  "nbformat": 4,
  "nbformat_minor": 0,
  "metadata": {
    "colab": {
      "name": "Aula5_Exercícios.ipynb",
      "provenance": [],
      "collapsed_sections": [],
      "mount_file_id": "1aTpLspIiAKCQOTqDm4Q6edxkiePJXvdh",
      "authorship_tag": "ABX9TyN7hwwcRK2d54EAo2ybQ4Oq",
      "include_colab_link": true
    },
    "kernelspec": {
      "name": "python3",
      "display_name": "Python 3"
    }
  },
  "cells": [
    {
      "cell_type": "markdown",
      "metadata": {
        "id": "view-in-github",
        "colab_type": "text"
      },
      "source": [
        "<a href=\"https://colab.research.google.com/github/eloijunior-py/pratice_pythonUERJ/blob/master/Aula5_Exerc%C3%ADcios.ipynb\" target=\"_parent\"><img src=\"https://colab.research.google.com/assets/colab-badge.svg\" alt=\"Open In Colab\"/></a>"
      ]
    },
    {
      "cell_type": "markdown",
      "metadata": {
        "id": "FQdSglwfj4Hr"
      },
      "source": [
        "2. Faça modificações para permitir que o usuário mude a cor da tartaruga durante a execução do programa. ***Do 1º exemplo***\n",
        "\n",
        "\n"
      ]
    },
    {
      "cell_type": "code",
      "metadata": {
        "id": "yCX32j6Wj5Oi"
      },
      "source": [
        "!pip3 install ColabTurtle\n",
        "import ColabTurtle"
      ],
      "execution_count": null,
      "outputs": []
    },
    {
      "cell_type": "code",
      "metadata": {
        "id": "W2MivhBdrC76"
      },
      "source": [
        "import ColabTurtle.Turtle as donatello\n",
        "donatello = ColabTurtle.Turtle\n",
        "donatello.initializeTurtle() \n",
        "\n",
        "tamanho = 4\n",
        "i = 0\n",
        "while i < tamanho:\n",
        "      cor = input(\"Escolha a cor da tartaruga \\n Cores dispiníveis: white, yellow, orange, red, green, blue, purple, grey, black \")\n",
        "      donatello.color(cor)\n",
        "      donatello.forward(50)        \n",
        "      donatello.left(90) \n",
        "      i = i + 1\n"
      ],
      "execution_count": null,
      "outputs": []
    },
    {
      "cell_type": "markdown",
      "metadata": {
        "id": "3UbpsRtYOlnv"
      },
      "source": [
        "2.A. Faça o mesmo para a largura da caneta da tartaruga"
      ]
    },
    {
      "cell_type": "code",
      "metadata": {
        "id": "SbnwMbamOnWX"
      },
      "source": [
        "michelangelo = ColabTurtle.Turtle\n",
        "michelangelo.initializeTurtle()\n",
        "\n",
        "\n",
        "\n",
        "for i in range(4):\n",
        "    can = int(input(\"Insira a espessura da linha \"))\n",
        "    \n",
        "    michelangelo.width(can)\n",
        "    michelangelo.forward(50)\n",
        "    michelangelo.left(90)\n",
        "    \n",
        "\n",
        "\n"
      ],
      "execution_count": null,
      "outputs": []
    },
    {
      "cell_type": "markdown",
      "metadata": {
        "id": "6NQJrCTCZEzb"
      },
      "source": [
        "5. Sabendo que o ângulo interno da ponta de uma estrela de 5 pontas é de 36 graus, desenhe uma estrela."
      ]
    },
    {
      "cell_type": "code",
      "metadata": {
        "id": "Y5vMqyrbZGrh"
      },
      "source": [
        "leonardo = ColabTurtle.Turtle \n",
        "leonardo.initializeTurtle()\n",
        "def star(leonardo):\n",
        "    for i in range(5):\n",
        "        leonardo.color(\"red\")\n",
        "        leonardo.speed(6)\n",
        "        leonardo.forward(50)\n",
        "        leonardo.right(144)\n",
        "        \n",
        "    \n",
        "\n",
        "\n",
        "star(leonardo)\n",
        "  \n",
        "\n"
      ],
      "execution_count": null,
      "outputs": []
    },
    {
      "cell_type": "markdown",
      "metadata": {
        "id": "1IVHJzKczABQ"
      },
      "source": [
        "6. Sabendo o ângulo interno da ponta de uma estrela, desenhe quatro estrelas em uma janela, com uma certa distância entre elas."
      ]
    },
    {
      "cell_type": "code",
      "metadata": {
        "id": "lFUUMvWZ3YuD"
      },
      "source": [
        "leonardo.initializeTurtle()\n",
        "\n",
        "def distance(bw=20):\n",
        "    for i in range(4):\n",
        "        leonardo.penup()\n",
        "        leonardo.backward(bw)\n",
        "        leonardo.pendown()\n",
        "\n",
        "def four_star2(star,distance):\n",
        "    for i in range(4):\n",
        "        star(leonardo)\n",
        "        distance(bw=20)\n",
        "\n",
        "\n",
        "four_star2(star,distance)"
      ],
      "execution_count": null,
      "outputs": []
    },
    {
      "cell_type": "markdown",
      "metadata": {
        "id": "vINNnZyZ06oU"
      },
      "source": [
        "Exercícios - Parte 2:\n",
        "1. Escreva um conjunto apropriadamente geral de funções que possam desenhar flores como na Figura abaixo:"
      ]
    },
    {
      "cell_type": "code",
      "metadata": {
        "id": "uytmjfbL2l-F"
      },
      "source": [
        "import math\n",
        "\n",
        "def draw_arc(b,r):  \n",
        "    c=2*math.pi*r #Circunferencia do circulo\n",
        "    ca=c/(360/60)  #Circunferencia do arco\n",
        "    n=int(ca/3)+1  #numero de segmentos\n",
        "    l=ca/n  #comprimento do segmento\n",
        "    for i in range(n):\n",
        "        b.forward(2)\n",
        "        b.left(360/(n*6))\n",
        "\n",
        "\n",
        "def draw_petal(b,r,petals):\n",
        "    draw_arc(b,r)\n",
        "    b.left(180-60)\n",
        "    draw_arc(b,r)\n",
        "    b.right(360/petals-30)  # Correção\n",
        "\n",
        "def step(bw=200):\n",
        "\n",
        "    raphael.penup()\n",
        "    raphael.left(90)\n",
        "    raphael.backward(bw)\n",
        "    raphael.pendown()\n",
        "\n",
        "\n",
        "raphael=ColabTurtle.Turtle\n",
        "raphael.initializeTurtle()\n",
        "raphael.speed(10)\n",
        "\n",
        "def draw_4flowers(draw_petal,r,petals):\n",
        "    for i in range(petals):\n",
        "        draw_petal(raphael,r,petals)\n",
        "        raphael.left(360/4)\n",
        "\n",
        "def draw_all(draw_4flowers):\n",
        "    for i in range(4):\n",
        "        petals = int(input(\"Insira quantidade de pétalas :\"))\n",
        "        draw_4flowers(draw_petal,80,petals)\n",
        "        step(bw=200)\n",
        "\n",
        "draw_all(draw_4flowers)\n"
      ],
      "execution_count": null,
      "outputs": []
    },
    {
      "cell_type": "markdown",
      "metadata": {
        "id": "ySVPeGJarOpe"
      },
      "source": [
        "2. Escreva um conjunto apropriadamente geral de funções que podem desenhar . formas como na figura:"
      ]
    },
    {
      "cell_type": "code",
      "metadata": {
        "id": "AsasfJZUrY02"
      },
      "source": [
        "import math\n",
        "def pizza(t, lados, tamanho):\n",
        "    ang_1 = 360 / lados\n",
        "    ang_2 = (180-ang_1)/2\n",
        "    raio = tamanho *(math.sin(ang_2*math.pi/180)/ math.sin(ang_1*math.pi/180))\n",
        "\n",
        "    for i in range(lados):\n",
        "        jeca.forward(int(raio))\n",
        "        jeca.left(180-ang_2)\n",
        "        jeca.forward(tamanho)\n",
        "        jeca.left(180-ang_2)\n",
        "        jeca.forward(int(raio))\n",
        "        jeca.left(180)\n",
        "\n",
        "import ColabTurtle.Turtle as jeca\n",
        "jeca = ColabTurtle.Turtle \n",
        "jeca.initializeTurtle()\n",
        "jeca.speed(7)\n",
        "\n",
        "pizza(jeca,7,100)"
      ],
      "execution_count": null,
      "outputs": []
    },
    {
      "cell_type": "markdown",
      "metadata": {
        "id": "HQrXfJhWvUtl"
      },
      "source": [
        "3. Adicione instruções para desenhar o talo e folha da flor. Faça a refatoração apropriada para a interface da flor completa ficar \"limpa\"."
      ]
    },
    {
      "cell_type": "code",
      "metadata": {
        "id": "eE9mt9lGvVv0"
      },
      "source": [
        "def caule(raphael):\n",
        "    raphael.left(180)\n",
        "    raphael.forward(150)\n",
        "    raphael.left(180)\n",
        "    draw_petal(raphael,40,4)\n",
        "\n",
        "def draw_petal_caule(draw_4flowers, caule):\n",
        "    draw_4flowers(draw_petal,40,4)\n",
        "    caule(raphael)\n",
        "\n",
        "import ColabTurtle as raphael\n",
        "raphael = ColabTurtle.Turtle\n",
        "raphael.initializeTurtle()\n",
        "raphael.speed(8)\n",
        "\n",
        "\n",
        "draw_petal_caule(draw_4flowers,caule)\n"
      ],
      "execution_count": null,
      "outputs": []
    },
    {
      "cell_type": "markdown",
      "metadata": {
        "id": "QOLBX-CQynQN"
      },
      "source": [
        "4. As letras do alfabeto podem ser construídas a partir de um número moderado de elementos básicos, como linhas verticais e horizontais e algumas curvas. Projete um alfabeto que possa ser desenhado com um número mínimo de elementos básicos e depois escreva funções que desenhem as letras.\n",
        "\n",
        "A. Você deve escrever uma função para cada letra, com os nomes draw_a_, _draw_b_, etc., e colocar suas funções em um arquivo chamado letters.py. Você pode baixar uma “turtle typewriter” de http://thinkpython2.com/code/typewriter.py para ajudá-lo a testar seu código."
      ]
    },
    {
      "cell_type": "code",
      "metadata": {
        "id": "EoQGBwsiyr73"
      },
      "source": [
        "import ColabTurtle as eloi\n",
        "eloi = ColabTurtle.Turtle\n",
        "eloi.initializeTurtle()\n",
        "eloi.speed(8)\n",
        "\n",
        "\n",
        "def a():\n",
        "  eloi.right(30)\n",
        "  eloi.forward(50)\n",
        "  eloi.right(120)\n",
        "  eloi.forward(50)\n",
        "  eloi.right(180)\n",
        "  eloi.forward(20)\n",
        "  eloi.left(60)\n",
        "  eloi.forward(25)\n",
        "  eloi.left(180)\n",
        "  eloi.forward(25)\n",
        "  eloi.right(60)\n",
        "  eloi.forward(26)\n",
        "  eloi.left(150)\n",
        "\n",
        "def b():\n",
        "  eloi.right(30)\n",
        "  eloi.forward(50)\n",
        "  eloi.right(120)\n",
        "  eloi.forward(50)\n",
        "  eloi.right(180)\n",
        "  eloi.forward(20)\n",
        "  eloi.left(60)\n",
        "  eloi.forward(25)\n",
        "  eloi.left(180)\n",
        "  eloi.forward(25)\n",
        "  eloi.right(60)\n",
        "  eloi.penup()\n",
        "  eloi.forward(26)\n",
        "  eloi.left(150)\n",
        "  eloi.pendown()\n",
        "\n",
        "def c():\n",
        "  eloi.penup()\n",
        "  eloi.right(90)\n",
        "  eloi.forward(23)\n",
        "  eloi.left(180)\n",
        "  eloi.pendown()\n",
        "  for i in range(6):\n",
        "      eloi.right(25)\n",
        "      eloi.forward(11)\n",
        "  eloi.right(30)\n",
        "  eloi.penup()\n",
        "  eloi.forward(15)\n",
        "  eloi.right(90)\n",
        "  eloi.forward(50)\n",
        "  eloi.left(180)\n",
        "  eloi.pendown()\n",
        "\n",
        "def d():\n",
        "  eloi.forward(45)\n",
        "  eloi.right(90)\n",
        "  eloi.forward(15)\n",
        "  for i in range(3):\n",
        "      eloi.right(45)\n",
        "      eloi.forward(20)\n",
        "  eloi.right(45)\n",
        "  eloi.forward(15)\n",
        "  eloi.left(180)\n",
        "  eloi.penup()\n",
        "  eloi.forward(34)\n",
        "  eloi.left(90)\n",
        "  eloi.pendown()\n",
        "\n",
        "def e ():\n",
        "  eloi.forward(46)\n",
        "  eloi.right(90)\n",
        "  eloi.forward(25)\n",
        "  eloi.left(90)\n",
        "  eloi.forward(23)\n",
        "  eloi.left(90)\n",
        "  eloi.forward(25)\n",
        "  eloi.right(180)\n",
        "  eloi.forward(25)\n",
        "  eloi.left(90)\n",
        "  eloi.pendown()\n",
        "  eloi.forward(25)\n",
        "  eloi.penup\n",
        "  eloi.forward(8)\n",
        "  eloi.left(90)\n",
        "  eloi.pendown()\n",
        "\n",
        "def f():\n",
        "  eloi.forward(46)\n",
        "  eloi.right(90)\n",
        "  eloi.forward(25)\n",
        "  eloi.right(180)\n",
        "  eloi.forward(25)\n",
        "  eloi.left(90)\n",
        "  eloi.forward(23)\n",
        "  eloi.left(90)\n",
        "  eloi.forward(25)\n",
        "  eloi.right(180)\n",
        "  eloi.forward(23)\n",
        "  eloi.penup()\n",
        "  eloi.left(90)\n",
        "  eloi.forward(25)\n",
        "  eloi.left(90)\n",
        "  eloi.forward(25)\n",
        "  eloi.forward(8)\n",
        "  eloi.left(90)\n",
        "  eloi.pendown()\n",
        "\n",
        "def g():\n",
        "  eloi.penup() \n",
        "  eloi.goto(150,0) \n",
        "  eloi.pendown() \n",
        "  for x in range(180): \n",
        "    eloi.backward(1) \n",
        "    eloi.left(1) \n",
        "  eloi.right(90) \n",
        "  eloi.forward(50) \n",
        "  eloi.right(90) \n",
        "  eloi.forward(30) \n",
        "  eloi.right(90) \n",
        "  eloi.forward(50)\n",
        "\n",
        "def h():\n",
        "  eloi.left(90)\n",
        "  eloi.forward(70)\n",
        "  eloi.backward(35)\n",
        "  eloi.right(90)\n",
        "  eloi.forward(30)\n",
        "  eloi.left(90)\n",
        "  eloi.forward(35)\n",
        "  eloi.backward(70)\n",
        "  eloi.penup()\n",
        "  eloi.right(90)\n",
        "  eloi.forward(10)\n",
        "  eloi.pendown()\n",
        "\n",
        "def i():\n",
        "  eloi.forward(46)\n",
        "  eloi.right(180)\n",
        "  eloi.penup()\n",
        "  eloi.forward(46)\n",
        "  eloi.left(90)\n",
        "  eloi.forward(10)\n",
        "  eloi.left(90)\n",
        "  eloi.pendown()\n",
        "\n",
        "def j():\n",
        "  eloi.forward(46)\n",
        "  eloi.left(180)\n",
        "  eloi.penup()\n",
        "  eloi.forward(23)\n",
        "  eloi.pendown()\n",
        "  eloi.left(120)\n",
        "  eloi.forward(35)\n",
        "  eloi.left(180)\n",
        "  eloi.penup()\n",
        "  eloi.forward(35)\n",
        "  eloi.left(120)\n",
        "  eloi.pendown()\n",
        "  eloi.forward(35)\n",
        "  eloi.penup()\n",
        "  eloi.forward(5)\n",
        "  eloi.left(30)\n",
        "  eloi.forward(10)\n",
        "  eloi.pendown()\n",
        "  eloi.left(90)\n",
        "\n",
        "def l():\n",
        "  eloi.forward(46)\n",
        "  eloi.right(180)\n",
        "  eloi.penup()\n",
        "  eloi.forward(46)\n",
        "  eloi.left(90)\n",
        "  eloi.pendown()\n",
        "  eloi.forward(25)\n",
        "  eloi.penup()\n",
        "  eloi.forward(8)\n",
        "  eloi.left(90)\n",
        "  eloi.pendown()\n",
        "\n",
        "def o():\n",
        "    eloi.penup()\n",
        "    eloi.forward(46)\n",
        "    eloi.right(90)\n",
        "    eloi.forward(25)\n",
        "    for i in range(6):\n",
        "        eloi.right(30)\n",
        "        eloi.forward(5)\n",
        "    eloi.forward(18)\n",
        "    eloi.penup()\n",
        "    eloi.left(180)\n",
        "    eloi.forward(15)\n",
        "    for i in range(6):\n",
        "        eloi.right(30)\n",
        "        eloi.forward(6)\n",
        "    eloi.forward(10)\n",
        "    eloi.left(180)\n",
        "    eloi.forward(38)\n",
        "    eloi.left(90)\n",
        "    eloi.pendown()\n",
        "\n",
        "def desenho():\n",
        "  eloi.penup()\n",
        "  eloi.left(90)\n",
        "  eloi.forward(380)\n",
        "  eloi.right(90)\n",
        "  eloi.pendown()\n",
        "\n",
        "desenho()\n",
        "e()\n",
        "l()\n",
        "o()\n",
        "i()\n",
        "\n"
      ],
      "execution_count": null,
      "outputs": []
    },
    {
      "cell_type": "markdown",
      "metadata": {
        "id": "8SnzFoGMRJ5P"
      },
      "source": [
        "5. Leia sobre espirais em http://en.wikipedia.org/wiki/Spiral; em seguida, escreva um programa que desenhe uma espiral arquimediana (ou um dos outros tipos). Solução: http://thinkpython2.com/code/spiral.py."
      ]
    },
    {
      "cell_type": "code",
      "metadata": {
        "id": "KOTrbsH_RKw7"
      },
      "source": [
        "import math\n",
        "\n",
        "def polyg (t, length, n, percent):\n",
        "  alfa = 360*percent/n\n",
        "  for i in range(n):\n",
        "    t.forward(length)\n",
        "    t.left(alfa)\n",
        "\n",
        "def circle(t, r, percent = 1):\n",
        "  circ = 2*math.pi*r\n",
        "  n = 10\n",
        "  length = int(circ/n)\n",
        "  polyg(t,length, n, percent)\n",
        "\n",
        "\n",
        "def espiral(t, tamanho, space):\n",
        "  for i in range(tamanho):\n",
        "    circle(t,i, space)\n",
        "\n",
        "import ColabTurtle as eloi\n",
        "eloi = ColabTurtle.Turtle\n",
        "eloi.initializeTurtle()\n",
        "eloi.speed(9)\n",
        "\n",
        "espiral(eloi, 30, 1/6)"
      ],
      "execution_count": null,
      "outputs": []
    }
  ]
}