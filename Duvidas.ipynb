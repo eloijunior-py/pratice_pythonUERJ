{
  "nbformat": 4,
  "nbformat_minor": 0,
  "metadata": {
    "colab": {
      "name": "Untitled4.ipynb",
      "provenance": [],
      "collapsed_sections": [],
      "mount_file_id": "1tYa80aakgPONb3RXATZPl1_wbywreoEC",
      "authorship_tag": "ABX9TyOvNVN0zzTWdIP9FVu/0KYY",
      "include_colab_link": true
    },
    "kernelspec": {
      "name": "python3",
      "display_name": "Python 3"
    }
  },
  "cells": [
    {
      "cell_type": "markdown",
      "metadata": {
        "id": "view-in-github",
        "colab_type": "text"
      },
      "source": [
        "<a href=\"https://colab.research.google.com/github/eloijunior-py/pratice_pythonUERJ/blob/master/Duvidas.ipynb\" target=\"_parent\"><img src=\"https://colab.research.google.com/assets/colab-badge.svg\" alt=\"Open In Colab\"/></a>"
      ]
    },
    {
      "cell_type": "code",
      "metadata": {
        "id": "ntWVzuf16uZy",
        "outputId": "ddc93446-5823-4bec-f90e-888c432d15e2",
        "colab": {
          "base_uri": "https://localhost:8080/",
          "height": 51
        }
      },
      "source": [
        "#Dúvidas\n",
        "# 1 As funções abaixo estão escritas de maneira correta? Há entre elas uma forma preferencial de escrita?\n",
        "# 2 Quando devo inserir argumentos ao definir uma função (como na segunda função)? Sempre? Ou depende do caso?\n",
        "\n",
        "#Funçaõ 1\n",
        "\n",
        "def velocidade_media():\n",
        "    vm = (pos_fi - pos_in)/tempo\n",
        "    print(\"A velocidade média é: \", vm, \"(m/s)\")\n",
        "pos_fi = 60\n",
        "pos_in = 30\n",
        "tempo = 3\n",
        "velocidade_media()\n",
        "\n",
        "# Função 2\n",
        "\n",
        "def velo_med(p1,p0,t):\n",
        "    v_med = (p1-p0)/t\n",
        "    print(\"A velocidade média é :\",v_med, \"(m/s)\")\n",
        "\n",
        "s1 = 300\n",
        "s0 = 30\n",
        "t = 2\n",
        "velo_med(s1,s0,t)"
      ],
      "execution_count": 1,
      "outputs": [
        {
          "output_type": "stream",
          "text": [
            "A velocidade média é:  10.0 (m/s)\n",
            "A velocidade média é : 135.0 (m/s)\n"
          ],
          "name": "stdout"
        }
      ]
    },
    {
      "cell_type": "code",
      "metadata": {
        "id": "Afgq8Xw47PVt"
      },
      "source": [
        ""
      ],
      "execution_count": null,
      "outputs": []
    }
  ]
}