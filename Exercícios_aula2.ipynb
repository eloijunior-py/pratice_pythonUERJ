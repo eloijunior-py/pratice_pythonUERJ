{
  "nbformat": 4,
  "nbformat_minor": 0,
  "metadata": {
    "colab": {
      "name": "Untitled3.ipynb",
      "provenance": [],
      "authorship_tag": "ABX9TyNnG6j+k1Qhce7BSMBLktlL",
      "include_colab_link": true
    },
    "kernelspec": {
      "name": "python3",
      "display_name": "Python 3"
    }
  },
  "cells": [
    {
      "cell_type": "markdown",
      "metadata": {
        "id": "view-in-github",
        "colab_type": "text"
      },
      "source": [
        "<a href=\"https://colab.research.google.com/github/eloijunior-py/pratice_pythonUERJ/blob/master/Exerc%C3%ADcios_aula2.ipynb\" target=\"_parent\"><img src=\"https://colab.research.google.com/assets/colab-badge.svg\" alt=\"Open In Colab\"/></a>"
      ]
    },
    {
      "cell_type": "code",
      "metadata": {
        "id": "HZrKVPaSHsWm"
      },
      "source": [
        "#Tarefa aula 2"
      ],
      "execution_count": 2,
      "outputs": []
    },
    {
      "cell_type": "code",
      "metadata": {
        "id": "FmkdzKIjIKUR",
        "outputId": "606d73f2-21a4-401d-8eda-eb7cc5deb696",
        "colab": {
          "base_uri": "https://localhost:8080/",
          "height": 34
        }
      },
      "source": [
        "5\n",
        "\n"
      ],
      "execution_count": 6,
      "outputs": [
        {
          "output_type": "execute_result",
          "data": {
            "text/plain": [
              "5"
            ]
          },
          "metadata": {
            "tags": []
          },
          "execution_count": 6
        }
      ]
    },
    {
      "cell_type": "code",
      "metadata": {
        "id": "zmGCBNZqING-"
      },
      "source": [
        "x = 5"
      ],
      "execution_count": 5,
      "outputs": []
    },
    {
      "cell_type": "code",
      "metadata": {
        "id": "ilyDpAmpITZv",
        "outputId": "e32cc652-4efe-4384-90e2-901b67fa2cc8",
        "colab": {
          "base_uri": "https://localhost:8080/",
          "height": 34
        }
      },
      "source": [
        "x + 1"
      ],
      "execution_count": 7,
      "outputs": [
        {
          "output_type": "execute_result",
          "data": {
            "text/plain": [
              "6"
            ]
          },
          "metadata": {
            "tags": []
          },
          "execution_count": 7
        }
      ]
    },
    {
      "cell_type": "code",
      "metadata": {
        "id": "HtyIMgs1IWhX",
        "outputId": "eacb136b-b2f6-418d-b316-12cdfbf88663",
        "colab": {
          "base_uri": "https://localhost:8080/",
          "height": 51
        }
      },
      "source": [
        "from google.colab import drive\n",
        "drive.mount('/gdrive')\n",
        "%cd /gdrive/"
      ],
      "execution_count": 9,
      "outputs": [
        {
          "output_type": "stream",
          "text": [
            "Drive already mounted at /gdrive; to attempt to forcibly remount, call drive.mount(\"/gdrive\", force_remount=True).\n",
            "/gdrive\n"
          ],
          "name": "stdout"
        }
      ]
    },
    {
      "cell_type": "code",
      "metadata": {
        "id": "oTrQ4g6XIjlQ",
        "outputId": "f9587508-c750-4bac-d58c-e44fa1aed752",
        "colab": {
          "base_uri": "https://localhost:8080/",
          "height": 68
        }
      },
      "source": [
        "%cd/gdrive/My Drive/Aula_UERJ\n",
        "%run -i tarefa_aula2_UERJ.py"
      ],
      "execution_count": 11,
      "outputs": [
        {
          "output_type": "stream",
          "text": [
            "/gdrive/My Drive/Aula_UERJ\n",
            "5\n",
            "6\n"
          ],
          "name": "stdout"
        }
      ]
    },
    {
      "cell_type": "code",
      "metadata": {
        "id": "gwQ4fqOKIoCU"
      },
      "source": [
        "#Exercício 1"
      ],
      "execution_count": 12,
      "outputs": []
    },
    {
      "cell_type": "code",
      "metadata": {
        "id": "GGrlB-oeJIez"
      },
      "source": [
        "largura = 17\n",
        "altura = 12.0\n",
        "delimitador = \".\"\n"
      ],
      "execution_count": 13,
      "outputs": []
    },
    {
      "cell_type": "code",
      "metadata": {
        "id": "Vzz64pGIJhwg",
        "outputId": "2f6f86d0-482c-4083-a839-e97836d602e2",
        "colab": {
          "base_uri": "https://localhost:8080/",
          "height": 51
        }
      },
      "source": [
        "lar = largura/2\n",
        "print(\"O valor da expressão é: \",lar)\n",
        "print(\"O tipo da expressão é: \",type(lar))"
      ],
      "execution_count": 25,
      "outputs": [
        {
          "output_type": "stream",
          "text": [
            "O valor da expressão é:  8.5\n",
            "O tipo da expressão é:  <class 'float'>\n"
          ],
          "name": "stdout"
        }
      ]
    },
    {
      "cell_type": "code",
      "metadata": {
        "id": "2v2-BWErJp1v",
        "outputId": "9e73560c-9e16-43f0-9ca6-bea0ff101b92",
        "colab": {
          "base_uri": "https://localhost:8080/",
          "height": 51
        }
      },
      "source": [
        "lar2 = largura/2.0\n",
        "print(\"O valor da expressão é: \",lar2)\n",
        "print(\"O tipo da expressão é: \",type(lar2))"
      ],
      "execution_count": 26,
      "outputs": [
        {
          "output_type": "stream",
          "text": [
            "O valor da expressão é:  8.5\n",
            "O tipo da expressão é:  <class 'float'>\n"
          ],
          "name": "stdout"
        }
      ]
    },
    {
      "cell_type": "code",
      "metadata": {
        "id": "WA2RS77XKGpl",
        "outputId": "b030148c-8d25-4d9c-c4aa-1eb9c974aefb",
        "colab": {
          "base_uri": "https://localhost:8080/",
          "height": 51
        }
      },
      "source": [
        "alt = altura/3\n",
        "print(\"O valor da expressão é: \",alt)\n",
        "print(\"O tipo da expressão é: \",type(alt))"
      ],
      "execution_count": 24,
      "outputs": [
        {
          "output_type": "stream",
          "text": [
            "O valor da expressão é:  4.0\n",
            "O tipo da expressão é:  <class 'float'>\n"
          ],
          "name": "stdout"
        }
      ]
    },
    {
      "cell_type": "code",
      "metadata": {
        "id": "jTyRXLKRKR8b",
        "outputId": "5880f576-6b7a-4108-e33d-b3f7e3487ea4",
        "colab": {
          "base_uri": "https://localhost:8080/",
          "height": 51
        }
      },
      "source": [
        "calc = (1+2*5)\n",
        "print(\"O valor da expressão é: \",calc)\n",
        "print(\"O tipo da expressão é: \", type(calc))\n"
      ],
      "execution_count": 23,
      "outputs": [
        {
          "output_type": "stream",
          "text": [
            "O valor da expressão é:  11\n",
            "O tipo da expressão é:  <class 'int'>\n"
          ],
          "name": "stdout"
        }
      ]
    },
    {
      "cell_type": "code",
      "metadata": {
        "id": "-smI_b5BKYYh",
        "outputId": "19425244-e737-4c7c-e034-fd83dceebf2f",
        "colab": {
          "base_uri": "https://localhost:8080/",
          "height": 51
        }
      },
      "source": [
        "deli = delimitador*5\n",
        "print(\"O valor da expressão é: \",deli)\n",
        "print(\"O tipo da expressão é: \",type(deli))"
      ],
      "execution_count": 40,
      "outputs": [
        {
          "output_type": "stream",
          "text": [
            "O valor da expressão é:  .....\n",
            "O tipo da expressão é:  <class 'str'>\n"
          ],
          "name": "stdout"
        }
      ]
    },
    {
      "cell_type": "code",
      "metadata": {
        "id": "lVjuQZjeL_pS"
      },
      "source": [
        "#Exercício 2 - Volume de uma esfera de raio = 5"
      ],
      "execution_count": 28,
      "outputs": []
    },
    {
      "cell_type": "code",
      "metadata": {
        "id": "PIUD0AEdMHHh",
        "outputId": "1db12de9-3102-477e-d347-9655e89fd8df",
        "colab": {
          "base_uri": "https://localhost:8080/",
          "height": 34
        }
      },
      "source": [
        "#Definindo valores\n",
        "r = 5\n",
        "pi = 3.14\n",
        "#Cálculo\n",
        "v = 3/4*(pi*r**3)\n",
        "print(v, \"u.a\")"
      ],
      "execution_count": 33,
      "outputs": [
        {
          "output_type": "stream",
          "text": [
            "294.375 u.a\n"
          ],
          "name": "stdout"
        }
      ]
    },
    {
      "cell_type": "code",
      "metadata": {
        "id": "GlPB-8SMNW7H"
      },
      "source": [
        "#Exercício 3 - livros"
      ],
      "execution_count": 36,
      "outputs": []
    },
    {
      "cell_type": "code",
      "metadata": {
        "id": "_kP7GIJFOLQN",
        "outputId": "d636526f-ecb1-43ed-fa7c-41f330af268f",
        "colab": {
          "base_uri": "https://localhost:8080/",
          "height": 34
        }
      },
      "source": [
        "preco = 24.95\n",
        "desconto = 40*preco/100\n",
        "frete = (3+0.75*59)\n",
        "custo_compra = preco - desconto + frete\n",
        "print(\"R$ \",custo_compra)\n"
      ],
      "execution_count": 37,
      "outputs": [
        {
          "output_type": "stream",
          "text": [
            "R$  62.22\n"
          ],
          "name": "stdout"
        }
      ]
    },
    {
      "cell_type": "code",
      "metadata": {
        "id": "LCrF83HLOOYI"
      },
      "source": [
        "#Exercício 4 - laser vermelho"
      ],
      "execution_count": 38,
      "outputs": []
    },
    {
      "cell_type": "code",
      "metadata": {
        "id": "uP5fvWWCQ-2p",
        "outputId": "8c70c6c6-0dd1-4e4d-9d12-96e65884ce94",
        "colab": {
          "base_uri": "https://localhost:8080/",
          "height": 34
        }
      },
      "source": [
        "#Definindo valores\n",
        "comprimento_onda = 632.8*1e-9\n",
        "D = 1.98\n",
        "d = 0.250*1e-3\n",
        "#Cálculo\n",
        "delta_y = (comprimento_onda*D/d)*1e3\n",
        "print(delta_y, \"(mm)\")"
      ],
      "execution_count": 51,
      "outputs": [
        {
          "output_type": "stream",
          "text": [
            "5.011776 (mm)\n"
          ],
          "name": "stdout"
        }
      ]
    },
    {
      "cell_type": "code",
      "metadata": {
        "id": "FhKRBJhtSOMg"
      },
      "source": [
        ""
      ],
      "execution_count": 42,
      "outputs": []
    },
    {
      "cell_type": "code",
      "metadata": {
        "id": "vHrqGdFjSPw0"
      },
      "source": [
        ""
      ],
      "execution_count": null,
      "outputs": []
    }
  ]
}